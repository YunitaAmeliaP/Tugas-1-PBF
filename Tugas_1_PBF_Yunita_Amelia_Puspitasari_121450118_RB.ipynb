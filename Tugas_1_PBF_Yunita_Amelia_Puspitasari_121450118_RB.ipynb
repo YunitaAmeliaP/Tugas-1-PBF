{
  "nbformat": 4,
  "nbformat_minor": 0,
  "metadata": {
    "colab": {
      "provenance": []
    },
    "kernelspec": {
      "name": "python3",
      "display_name": "Python 3"
    },
    "language_info": {
      "name": "python"
    }
  },
  "cells": [
    {
      "cell_type": "markdown",
      "source": [
        "NAMA  : Yunita Amelia Puspitasari\n",
        "\n",
        "NIM   : 121450118\n",
        "\n",
        "KELAS : RB"
      ],
      "metadata": {
        "id": "mLEzB9lYBZ8l"
      }
    },
    {
      "cell_type": "markdown",
      "source": [
        "SOAL\n",
        "\n",
        "1 Jelaskan menggunakan tabel mengenai kelebihan dan kekurangan paradigma procedural dibandingkan dengan object orented (minimal 3) !\n",
        "\n",
        "2 Jelaskan menggunakan tabel megenai kelebihan dan kekurangan paradigma object oriented dibandingkan dengan functional (minimal 3) !\n",
        "\n",
        "3 Jelaskan menggunakan tabel mengenai kelebihan dan kekurangan paradigma prosedural dibandingkan dengan functional (minimal 3) ! \n",
        "\n",
        "4 Apa yang dimaksud dengan pure functional programming languange ?\n",
        "\n",
        "5 Dari bahasa pemrograman FP di slide sebelumnya (slide 14), manakah yang termasuk pure functional programming languange ?\n"
      ],
      "metadata": {
        "id": "jlzaeg7DBk_U"
      }
    },
    {
      "cell_type": "markdown",
      "source": [
        "#**Nomor 1**\n",
        "\n",
        "Kelebihan paradigma procedural dibandingkan dengan object orented\n",
        "|Paradigma Procedural|OOP|\n",
        "|--------------------|---|\n",
        "|Lebih mudah dipahami dan dipelajari bagi programmer pemula.  |Kode dapat dibuat reusable dan dipakai kembali untuk proyek lain.\n",
        "|Dapat menjalankan program dengan lebih cepat karena lebih fokus pada eksekusi step-by-step |Memfasilitasi pemodelan konsep abstrak seperti objek dan hubungan antar objek |\n",
        "|Struktur kode lebih mudah dikelola karena menggunakan fungsi-fungsi yang terpisah.| Lebih mudah untuk mengatasi kompleksitas program yang besar dan kompleks.|\n",
        "\n",
        "<br>\n",
        "\n",
        "<h4 style=\"text-align: center; font-weight : Bold;\">Kekurangan</h4>\n",
        "\n",
        "|Paradigma Procedural|OOP|\n",
        "|--------------------|---|\n",
        "|Dukungan yang terbatas | Dukungan yang besar dalam pengembangan project |\n",
        "|Fungsi yang tersedia susah untuk diubah dan mempengaruhi sistem secara keseluruhan | Fungsi yang tersedia jika diubah tidak akan mempengaruhi sistem / aplikasi secara keseluruhan.|\n",
        "|Program yang cukup sulit untuk proses perawatan | Program yang memasukan OOP akan lebih mudah dalam perawatan (maintanace) |\n",
        "|Kurang aman dibandingkan dengan OOP | Lebih Aman dibandingkan dengan prosedural | "
      ],
      "metadata": {
        "id": "GVjtf9Ai1kSF"
      }
    },
    {
      "cell_type": "markdown",
      "source": [
        "# **No 2**\n",
        "\n",
        "<h4 style=\"text-align: center; font-weight : Bold;\">Kelebihan</h4>\n",
        "\n",
        "|OOP|Paradigma Functional|\n",
        "|---|--------------------|\n",
        "|Lebih mudah dipahami dan diterapkan bagi programmer yang berpengalaman dengan paradigma ini.| Tidak memiliki penentu akses| \n",
        "|Memfasilitasi pemodelan konsep abstrak seperti objek dan hubungan antar objek.  | Tidak mudah menambahkan fungsi dan data baru.| \n",
        "|Dapat membuat kode lebih terstruktur dan lebih mudah dikelola. | Tidak menyediakan penyembunyian data, keamanan tidak dimungkinkan |\n",
        "\n",
        "<br>\n",
        "<h4 style=\"text-align: center; font-weight : Bold;\">Kekurangan</h4>\n",
        "\n",
        "|OOP|Paradigma Fungsional|\n",
        "|---|--------------------|\n",
        "|Lebih sulit diprediksi dan diuji karena memiliki mutable state dan efek samping lain.| Runtime lebih cepat dibandingkan dengan OOP | \n",
        "|Lebih sulit untuk memanfaatkan teknik seperti memoization dan parallelism.| Penulisan program masih dibawah kompleks dari OOP| \n",
        "|Lebih sulit dipahami dan dipelajari bagi programmer pemula.| Memperbolehkan implementasi pada reuse selama fungsi dapat di akses |\n"
      ],
      "metadata": {
        "id": "dduQRacY3AGF"
      }
    },
    {
      "cell_type": "markdown",
      "source": [
        "# **No 3**\n",
        "\n",
        "<h4 style=\"text-align: center; font-weight : Bold;\">Kelebihan</h4>\n",
        "\n",
        "|Paradigma Procedural|Paradigma Fungsional|\n",
        "|:---:|:---:|\n",
        "|Lebih mudah dipahami dan diterapkan bagi programmer yang berpengalaman dengan paradigma ini.| Terkadang source code harus teliti dalam membacanya | \n",
        "|Dapat membuat kode lebih terstruktur dan lebih mudah dikelola dibandingkan dengan paradigma functional. | Penggunaan memori sedikit lebih banyak karna harus mengakses fungsi | \n",
        "|Lebih fleksibel dalam memodelkan konsep abstrak dan mengendalikan aliran kontrol.| Code terlihat akan rumit menemukan bug dan harus mencari dengan teliti dan solusinya akan lebih rumit diperbaiki |\n",
        "\n",
        "<br>\n",
        "<h4 style=\"text-align: center; font-weight : Bold;\">Kekurangan</h4>\n",
        "\n",
        "|Paradigma Procedural|Paradigma Fungsional|\n",
        "|---|---|\n",
        "|Lebih sulit diprediksi dan diuji karena memiliki mutable state dan efek samping lain.| Lebih menekankan solusi secara variatif | \n",
        "|Lebih sulit untuk memanfaatkan teknik seperti memoization dan parallelism.  | Eksekusi (runtime) yang berulang tidak akan mempengaruhi program | \n",
        "|Struktur kode mungkin lebih sulit dikelola dan lebih kompleks dibandingkan dengan paradigma functional.| Tidak dilakukan evaluasi secara spesifik |"
      ],
      "metadata": {
        "id": "o4tTFioZ3RtN"
      }
    },
    {
      "cell_type": "markdown",
      "source": [
        "# **No 4**\n",
        "\n",
        "Pure functional programming language adalah jenis bahasa pemrograman yang hanya menggunakan teknik pemrograman fungsional. Dalam teknik ini, seluruh program diimplementasikan sebagai serangkaian fungsi matematis yang memetakan masukan ke output tanpa memodifikasi data apa pun atau memiliki efek samping lain.\n",
        "\n",
        "Pure functional programming language menghindari penggunaan mutable state dan efek samping lain yang dapat mempengaruhi hasil program. Ini membuat kode lebih mudah diprediksi dan diuji, dan mempermudah memanfaatkan teknik seperti memoization dan parallelism."
      ],
      "metadata": {
        "id": "Y8fiUSvrCVx0"
      }
    },
    {
      "cell_type": "markdown",
      "source": [
        "# **No 5**\n",
        "Haskell merupakan pure functional programming languange."
      ],
      "metadata": {
        "id": "ddrAsw4X3hPT"
      }
    },
    {
      "cell_type": "markdown",
      "source": [
        "<h2 style = \"text-align : center; font-weight:bold;\"> Simple Password encryption </h2>\n",
        "<br>\n",
        "Seorang user dari sebuah website ingin meningkatkan security dari password yang dia miliki dengan metode mengubah password nya menjadi bentuk lain dengan beberapa aturan enkripsi sebagai berikut: \n",
        "\n",
        "1. Input password bertipe string dengan batasan panjang password 100 karakter \n",
        "2. Setiap karakter dari string tersebut diubah menjadi ASCII value \n",
        "3. Kemudian setiap ASCII value tersebut dikembangkan menjadi 3 value dengan dilakukan operasi berikut: <br>\n",
        "    a. Value pertama dibagi dengan integer 26 kemudian dibulatkan dan dijumlahkan dengan 80 kemudian diubah kembali menjadi karakter <br>\n",
        "    b. Value kedua dihitung sisa bagi dengan 26 kemudian dijumlahkan dengan 80 kemudian diubah kembali menjadi karakter <br>\n",
        "    c. Value ketiga adalah karakter ‘+’ jika value pertama lebih besar dari value kedua, atau value ketiga adalah karakter ‘-’ jika value pertama tidak lebih besar dari value kedua \n",
        "4. Deretkan value pertama, kedua dan ketiga untuk setiap karakter dalam password tersebut sehingga didapatkan password dalam bentuk baru\n"
      ],
      "metadata": {
        "id": "l_fbudbo8ioU"
      }
    },
    {
      "cell_type": "markdown",
      "source": [
        "Soal\n",
        "\n",
        "1. Bantulah user tersebut dengan membuatkan sebuah program yang secara otomatis mengubah password yang di input menjadi terenkripsi sesuai aturan tersebut! \n",
        "\n",
        "2. Apa output yang dihasilkan dari program tersebut jika input password adalah ‘anakanakcerdas2020’? \n",
        "3. ___(Bonus)___ User tersebut lupa password asli yang dia inputkan ke dalam program tersebut, password setelah dienkripsi adalah ‘Sc-TV-Sc-TS+T[-Sc-TQ+TV-T[-Sf-Sc-T\\-Sc-Qh-Qf-Qh-Qf-TS+Sg-Se-Sg-’. Bantulah user tersebut mendapatkan password asli nya!"
      ],
      "metadata": {
        "id": "wFT9rJ1o8jvK"
      }
    },
    {
      "cell_type": "markdown",
      "source": [
        "# **No 1**"
      ],
      "metadata": {
        "id": "PaCUV3r08-t2"
      }
    },
    {
      "cell_type": "code",
      "source": [
        "# Dengan metode paradigma fungsional \n",
        "\n",
        "def encrypt(passwd):\n",
        "    # Jika panjang lebih lebih dari 100 atau 0 \n",
        "    if len(passwd) == 0 or len(passwd) > 100:\n",
        "        print(\"Maaf masukan password dengan benar (dengan rentang 1 - 100)\")\n",
        "    else : \n",
        "        change_ascii = [str(ord(i)) for i in passwd]\n",
        "        # Menerapkan 3 value pada kode ascii yang telah ditentukan\n",
        "        open_decrypt = ''.join(chr((int(j)//26)+80)+chr((int(j)%26)+80)+('+' if (int(j)//26)+80 > (int(j)%26)+80 else '-') for j in change_ascii)\n",
        "        # menampilkan hasil enkripsi\n",
        "        print(\"Passwordnya adalah :  \", open_decrypt)\n",
        "\n",
        "def decrypt(passwd):\n",
        "    # split 3 value Password\n",
        "    pswd_split = [(passwd[k:k+3]) for k in range(0, len(passwd), 3)]\n",
        "    # Mengubah 3 value kembali ke kode ascii lalu ke karakter asli dan menggabungkan semuanya\n",
        "    open_encrypt = ''.join(chr(((ord(list(z)[0])-80)*26)+(ord(list(z)[1])-80)) for z in pswd_split)\n",
        "    # Hasil dekripsi\n",
        "    print(\"Passwordnya adalah :  \", open_encrypt)"
      ],
      "metadata": {
        "id": "blRRFnoE89Cm"
      },
      "execution_count": null,
      "outputs": []
    },
    {
      "cell_type": "markdown",
      "source": [
        "# No **2**"
      ],
      "metadata": {
        "id": "JyI8BKzF9Pvh"
      }
    },
    {
      "cell_type": "code",
      "source": [
        "usr_input = input(\"Masukan password Anda : \")\n",
        "encrypt(usr_input)"
      ],
      "metadata": {
        "colab": {
          "base_uri": "https://localhost:8080/"
        },
        "id": "SrQSKdHY9TJ6",
        "outputId": "8b0a9f58-d192-4987-d4da-95acbbbd90b6"
      },
      "execution_count": null,
      "outputs": [
        {
          "output_type": "stream",
          "name": "stdout",
          "text": [
            "Masukan password Anda : anakanakcerdas2020\n",
            "Passwordnya adalah :   Sc-TV-Sc-TS+Sc-TV-Sc-TS+Se-Sg-TZ-Sf-Sc-T[-Qh-Qf-Qh-Qf-\n"
          ]
        }
      ]
    },
    {
      "cell_type": "markdown",
      "source": [
        "No 3"
      ],
      "metadata": {
        "id": "rWBpTskc9Yjo"
      }
    },
    {
      "cell_type": "code",
      "source": [
        "usr_input = input(\"Masukan password yang Anda ingin pecahkan : \")\n",
        "decrypt(usr_input)"
      ],
      "metadata": {
        "colab": {
          "base_uri": "https://localhost:8080/"
        },
        "id": "fI4P3aWy9Z_l",
        "outputId": "12e7bcd7-3cd5-440b-9392-2c82c1d01a18"
      },
      "execution_count": null,
      "outputs": [
        {
          "output_type": "stream",
          "name": "stdout",
          "text": [
            "Masukan password yang Anda ingin pecahkan : Sc-TV-Sc-TS+T[-Sc-TQ+TV-T[-Sf-Sc-T\\-Sc-Qh-Qf-Qh-Qf-TS+Sg-Se-Sg-\n",
            "Passwordnya adalah :   anaksainsdata2020kece\n"
          ]
        }
      ]
    }
  ]
}